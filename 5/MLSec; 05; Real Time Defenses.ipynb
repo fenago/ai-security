{
 "cells": [
  {
   "cell_type": "markdown",
   "metadata": {},
   "source": [
    "# Creating Real Time Defenses"
   ]
  },
  {
   "cell_type": "markdown",
   "metadata": {},
   "source": [
    "## Using supervised learning example\n",
    "Supervised learning techniques are those that rely on labeled data to provide the model with better information as to what is and what isn't a hacker attack, malware, or some other kind of unexpected activity."
   ]
  },
  {
   "cell_type": "markdown",
   "metadata": {},
   "source": [
    "### Building a data generator"
   ]
  },
  {
   "cell_type": "code",
   "execution_count": 1,
   "metadata": {},
   "outputs": [],
   "source": [
    "from datetime import time, date, datetime, timedelta\n",
    "import csv\n",
    "import random\n",
    "from collections import Counter\n",
    "import pandas as pd\n",
    "import numpy as np\n",
    "from sklearn.ensemble import RandomForestClassifier\n",
    "from sklearn.metrics import accuracy_score"
   ]
  },
  {
   "cell_type": "markdown",
   "metadata": {},
   "source": [
    "#### Creating the CreateAPITraffic() function"
   ]
  },
  {
   "cell_type": "code",
   "execution_count": 2,
   "metadata": {},
   "outputs": [],
   "source": [
    "def CreateAPITraffic(\n",
    "    values = 5000,\n",
    "    benignIP = ['172:144:0:22', '172:144:0:23', \n",
    "                '172:144:0:24', '172:144:0:25',\n",
    "                '172:144:0:26', '172:144:0:27'],\n",
    "    hackerIP = ['175:144:22:2', '175:144:22:3',\n",
    "                '175:144:22:4', '175:144:22:5',\n",
    "                '175:144:22:6', '175:144:22:7'],\n",
    "    apiEntries = ['Rarely', 'Sometimes', 'Regularly'],\n",
    "    bias = .8, \n",
    "    outlier = 50):\n",
    "    \n",
    "    # Define the variables needed to perform tasks within\n",
    "    # the function. You use data to hold the actual log entries\n",
    "    # for return to the caller. The currTime and updateTime \n",
    "    # variables help create the log’s time entries. The selectedIP\n",
    "    # variable holds one of the IP addresses provided as part of\n",
    "    # benignIP or hackerIP arguments and is the IP address added to\n",
    "    # the current log entry. The threshold determines the split\n",
    "    # between benign and hacker log entries. The hackerCount and \n",
    "    # benignCount variables specify how many of each entry type\n",
    "    # appears in the log.\n",
    "    data = []\n",
    "    currTime = time(0, 0, 0)\n",
    "    updateTime = timedelta(seconds = 1)\n",
    "    selectedIP = \"\"\n",
    "    threshold = (len(apiEntries) * 2) - \\\n",
    "        (len(apiEntries) * 2 * bias)\n",
    "    hackerCount = 0\n",
    "    benignCount = 0\n",
    "\n",
    "    # A loop for generating entries comes next. This code begins\n",
    "    # by defining the time element of an individual log entry.\n",
    "    for x in range(values):\n",
    "        currTime = (datetime.combine(date.today(), \n",
    "                                     currTime)\n",
    "                    + updateTime).time()\n",
    "        \n",
    "        # Selecting an API entry comes next.\n",
    "        apiChoice = random.choice(apiEntries)\n",
    "        \n",
    "        # Determine which IP address to use for the data entry.\n",
    "        # The CreateAPITraffic() function uses a combination of\n",
    "        # approaches to make the determination based on the assumption\n",
    "        # that the hacker will select less commonly used API calls to \n",
    "        # attack because these calls are more likely to contain bugs,\n",
    "        # which is where threshold comes into play. However, it’s also\n",
    "        # important to include a certain amount of noise in the form of\n",
    "        # outliers as part of the dataset. This example uses hackerCount\n",
    "        # as a means of determining when to create an outlier.\n",
    "        choiceIndex = apiEntries.index(apiChoice) + 1\n",
    "        randSelect = choiceIndex * \\\n",
    "            random.randint(1, len(apiEntries)) * bias\n",
    "        if hackerCount % outlier == 0:\n",
    "            selectedIP = random.choice(hackerIP)\n",
    "        else:\n",
    "            if randSelect >= threshold:\n",
    "                selectedIP = random.choice(benignIP)\n",
    "            else:\n",
    "                selectedIP = random.choice(hackerIP)\n",
    "        \n",
    "        # Each entry is appended to data in turn. In addition, the code\n",
    "        # also tracks whether the entry is a hacker or a benign entry.\n",
    "        data.append([currTime.strftime(\"%H:%M:%S\"), \n",
    "                     selectedIP, apiChoice])\n",
    "        if selectedIP in hackerIP:\n",
    "            hackerCount += 1\n",
    "        else:\n",
    "            benignCount += 1\n",
    "    \n",
    "    return (threshold, benignCount, hackerCount, data)"
   ]
  },
  {
   "cell_type": "markdown",
   "metadata": {},
   "source": [
    "#### Creating the SaveDataToCSV() function"
   ]
  },
  {
   "cell_type": "code",
   "execution_count": 3,
   "metadata": {},
   "outputs": [],
   "source": [
    "def SaveDataToCSV(data = [], fields = [], \n",
    "                  filename = \"test.csv\"):\n",
    "    with open(filename, 'w', newline='') as file:\n",
    "        write = csv.writer(file, delimiter=',')\n",
    "        write.writerow(fields)\n",
    "        write.writerows(data)"
   ]
  },
  {
   "cell_type": "markdown",
   "metadata": {},
   "source": [
    "#### Defining the particulars of the training dataset"
   ]
  },
  {
   "cell_type": "code",
   "execution_count": 4,
   "metadata": {},
   "outputs": [],
   "source": [
    "callNames = ['Rarely', \n",
    "             'Sometimes1', 'Sometimes2',\n",
    "             'Regularly1', 'Regularly2', 'Regularly3',\n",
    "             'Often1', 'Often2', 'Often3', 'Often4', \n",
    "             'Often5', 'Often6', 'Often7', 'Often8']\n",
    "benignIPs = ['172:144:0:22', '172:144:0:23', \n",
    "             '172:144:0:24', '172:144:0:25', \n",
    "             '172:144:0:26', '172:144:0:27',\n",
    "             '172:144:0:28', '172:144:0:29', \n",
    "             '172:144:0:30', '172:144:0:31',\n",
    "             '172:144:0:32', '172:144:0:33',\n",
    "             '172:144:0:34', '172:144:0:35',\n",
    "             '172:144:0:36', '172:144:0:37']"
   ]
  },
  {
   "cell_type": "markdown",
   "metadata": {},
   "source": [
    "#### Generating the CallData.csv file"
   ]
  },
  {
   "cell_type": "code",
   "execution_count": 5,
   "metadata": {},
   "outputs": [
    {
     "name": "stdout",
     "output_type": "stream",
     "text": [
      "There are 9320 benign entries and 680 hacker entries with a threshold of 5.599999999999998.\n"
     ]
    }
   ],
   "source": [
    "random.seed(52)\n",
    "threshold, benignCount, hackerCount, data = \\\n",
    "    CreateAPITraffic(values=10000, \n",
    "                     benignIP=benignIPs, \n",
    "                     apiEntries=callNames)\n",
    "print(f\"There are {benignCount} benign entries \" \\\n",
    "      f\"and {hackerCount} hacker entries \" \\\n",
    "      f\"with a threshold of {threshold}.\")\n",
    "fields = ['Time', 'IP_Address', 'API_Call']\n",
    "SaveDataToCSV(data, fields, \"CallData.csv\")"
   ]
  },
  {
   "cell_type": "markdown",
   "metadata": {},
   "source": [
    "### Converting the log into a frequency data table\n",
    "This section creates an aggregation of the log entries so that the model can use the calling pattern as a means for detecting whether a caller is a hacker or a regular user."
   ]
  },
  {
   "cell_type": "markdown",
   "metadata": {},
   "source": [
    "#### Creating the ReadDataFromCSV() function"
   ]
  },
  {
   "cell_type": "code",
   "execution_count": 6,
   "metadata": {},
   "outputs": [],
   "source": [
    "def ReadDataFromCSV(filename=\"test.csv\"):\n",
    "    logData = pd.read_csv(filename)\n",
    "    \n",
    "    # Obtain a listing of the unique API calls found in the file.\n",
    "    calls = np.unique(np.array(logData['API_Call']))\n",
    "    \n",
    "    # Aggregate the data using the IP_Address as the means\n",
    "    # for determining how to group the entries and API_Call\n",
    "    # as the means to determine which column to use for aggregation.\n",
    "    aggData = logData.groupby(\n",
    "        'IP_Address')['API_Call'].agg(list)\n",
    "    \n",
    "    # Create a DataFrame to hold the data to analyze later.\n",
    "    # Begin labelling the data based on its IP address.\n",
    "    analysisEntries = {}\n",
    "    analysisData = pd.DataFrame(columns=calls)\n",
    "    for ipIndex, ipEntry in zip(aggData.index, aggData):\n",
    "        ipEntry.sort()\n",
    "        if ipIndex[0:3] == '172':\n",
    "            values = [0]\n",
    "        else:\n",
    "            values = [1]\n",
    "        \n",
    "        # Create columns for the DataFrame based on the API calls.\n",
    "        keys = ['Benign']\n",
    "        for callType in calls:\n",
    "            keys.append(callType)\n",
    "            values.append(ipEntry.count(callType))\n",
    "        \n",
    "        # Define each row of the DataFrame using the number of calls\n",
    "        # from the IP address in question as the values for each column.\n",
    "        analysisEntries[ipIndex] = pd.Series(values,\n",
    "                                             index=keys)\n",
    "    \n",
    "    # Create the DataFrame and return it to the caller.\n",
    "    analysisData = pd.DataFrame(analysisEntries)\n",
    "    return (analysisData, calls)"
   ]
  },
  {
   "cell_type": "markdown",
   "metadata": {},
   "source": [
    "#### Reading the data from disk"
   ]
  },
  {
   "cell_type": "code",
   "execution_count": 7,
   "metadata": {},
   "outputs": [
    {
     "name": "stdout",
     "output_type": "stream",
     "text": [
      "            172:144:0:22  172:144:0:23  172:144:0:24  172:144:0:25  \\\n",
      "Benign                 0             0             0             0   \n",
      "Often1                48            49            38            50   \n",
      "Often2                23            31            60            48   \n",
      "Often3                38            41            47            50   \n",
      "Often4                43            43            38            48   \n",
      "Often5                43            40            55            43   \n",
      "Often6                47            41            54            31   \n",
      "Often7                55            55            44            49   \n",
      "Often8                57            48            55            57   \n",
      "Rarely                33            22            28            24   \n",
      "Regularly1            40            51            33            40   \n",
      "Regularly2            46            47            35            43   \n",
      "Regularly3            51            38            51            39   \n",
      "Sometimes1            29            32            30            42   \n",
      "Sometimes2            42            54            39            40   \n",
      "\n",
      "            172:144:0:26  172:144:0:27  172:144:0:28  172:144:0:29  \\\n",
      "Benign                 0             0             0             0   \n",
      "Often1                59            52            45            41   \n",
      "Often2                39            45            45            41   \n",
      "Often3                48            55            47            38   \n",
      "Often4                40            41            42            45   \n",
      "Often5                38            38            47            52   \n",
      "Often6                40            54            48            60   \n",
      "Often7                34            50            49            29   \n",
      "Often8                43            39            39            44   \n",
      "Rarely                24            30            31            28   \n",
      "Regularly1            46            39            41            45   \n",
      "Regularly2            42            35            38            44   \n",
      "Regularly3            45            33            44            43   \n",
      "Sometimes1            44            35            41            31   \n",
      "Sometimes2            33            48            49            29   \n",
      "\n",
      "            172:144:0:30  172:144:0:31  ...  172:144:0:34  172:144:0:35  \\\n",
      "Benign                 0             0  ...             0             0   \n",
      "Often1                40            40  ...            52            50   \n",
      "Often2                36            57  ...            36            43   \n",
      "Often3                47            58  ...            43            47   \n",
      "Often4                41            39  ...            38            43   \n",
      "Often5                40            39  ...            46            42   \n",
      "Often6                48            42  ...            57            47   \n",
      "Often7                41            48  ...            35            41   \n",
      "Often8                52            42  ...            37            54   \n",
      "Rarely                31            29  ...            29            22   \n",
      "Regularly1            28            44  ...            27            35   \n",
      "Regularly2            32            45  ...            38            39   \n",
      "Regularly3            55            47  ...            27            44   \n",
      "Sometimes1            29            28  ...            38            33   \n",
      "Sometimes2            37            38  ...            40            43   \n",
      "\n",
      "            172:144:0:36  172:144:0:37  175:144:22:2  175:144:22:3  \\\n",
      "Benign                 0             0             1             1   \n",
      "Often1                40            47             0             0   \n",
      "Often2                48            44             0             1   \n",
      "Often3                47            52             0             0   \n",
      "Often4                37            40             0             0   \n",
      "Often5                49            56             0             0   \n",
      "Often6                43            51             0             0   \n",
      "Often7                37            41             0             0   \n",
      "Often8                47            45             1             0   \n",
      "Rarely                25            24            54            46   \n",
      "Regularly1            37            37             4            12   \n",
      "Regularly2            40            46             6             7   \n",
      "Regularly3            38            39            10             9   \n",
      "Sometimes1            30            26            23            23   \n",
      "Sometimes2            36            38            11            15   \n",
      "\n",
      "            175:144:22:4  175:144:22:5  175:144:22:6  175:144:22:7  \n",
      "Benign                 1             1             1             1  \n",
      "Often1                 0             0             0             0  \n",
      "Often2                 1             0             0             1  \n",
      "Often3                 0             0             0             1  \n",
      "Often4                 0             0             0             1  \n",
      "Often5                 0             0             0             0  \n",
      "Often6                 0             0             0             0  \n",
      "Often7                 0             0             0             0  \n",
      "Often8                 0             0             0             0  \n",
      "Rarely                41            52            54            43  \n",
      "Regularly1             9            12             9             5  \n",
      "Regularly2             6            10             4             7  \n",
      "Regularly3             5             4             9            12  \n",
      "Sometimes1            22            34            25            28  \n",
      "Sometimes2            18            15            14            16  \n",
      "\n",
      "[15 rows x 22 columns]\n"
     ]
    }
   ],
   "source": [
    "analysisData, calls = ReadDataFromCSV(\"CallData.csv\")\n",
    "print(analysisData)"
   ]
  },
  {
   "cell_type": "code",
   "execution_count": 8,
   "metadata": {},
   "outputs": [
    {
     "name": "stdout",
     "output_type": "stream",
     "text": [
      "[[48 23 38 43 43 47 55 57 33 40 46 51 29 42]\n",
      " [49 31 41 43 40 41 55 48 22 51 47 38 32 54]\n",
      " [38 60 47 38 55 54 44 55 28 33 35 51 30 39]\n",
      " [50 48 50 48 43 31 49 57 24 40 43 39 42 40]\n",
      " [59 39 48 40 38 40 34 43 24 46 42 45 44 33]\n",
      " [52 45 55 41 38 54 50 39 30 39 35 33 35 48]\n",
      " [45 45 47 42 47 48 49 39 31 41 38 44 41 49]\n",
      " [41 41 38 45 52 60 29 44 28 45 44 43 31 29]\n",
      " [40 36 47 41 40 48 41 52 31 28 32 55 29 37]\n",
      " [40 57 58 39 39 42 48 42 29 44 45 47 28 38]\n",
      " [36 37 49 37 56 34 52 45 25 55 50 39 44 31]\n",
      " [55 39 43 50 37 47 39 43 26 38 39 38 32 42]\n",
      " [52 36 43 38 46 57 35 37 29 27 38 27 38 40]\n",
      " [50 43 47 43 42 47 41 54 22 35 39 44 33 43]\n",
      " [40 48 47 37 49 43 37 47 25 37 40 38 30 36]\n",
      " [47 44 52 40 56 51 41 45 24 37 46 39 26 38]\n",
      " [ 0  0  0  0  0  0  0  1 54  4  6 10 23 11]\n",
      " [ 0  1  0  0  0  0  0  0 46 12  7  9 23 15]\n",
      " [ 0  1  0  0  0  0  0  0 41  9  6  5 22 18]\n",
      " [ 0  0  0  0  0  0  0  0 52 12 10  4 34 15]\n",
      " [ 0  0  0  0  0  0  0  0 54  9  4  9 25 14]\n",
      " [ 0  1  1  1  0  0  0  0 43  5  7 12 28 16]]\n",
      "        172:144:0:22  172:144:0:23  172:144:0:24  172:144:0:25  172:144:0:26  \\\n",
      "Benign             0             0             0             0             0   \n",
      "\n",
      "        172:144:0:27  172:144:0:28  172:144:0:29  172:144:0:30  172:144:0:31  \\\n",
      "Benign             0             0             0             0             0   \n",
      "\n",
      "        ...  172:144:0:34  172:144:0:35  172:144:0:36  172:144:0:37  \\\n",
      "Benign  ...             0             0             0             0   \n",
      "\n",
      "        175:144:22:2  175:144:22:3  175:144:22:4  175:144:22:5  175:144:22:6  \\\n",
      "Benign             1             1             1             1             1   \n",
      "\n",
      "        175:144:22:7  \n",
      "Benign             1  \n",
      "\n",
      "[1 rows x 22 columns]\n",
      "[0 0 0 0 0 0 0 0 0 0 0 0 0 0 0 0 1 1 1 1 1 1]\n"
     ]
    }
   ],
   "source": [
    "X = np.array(analysisData[1:len(calls)+1]).T\n",
    "print(X)\n",
    "y = analysisData[0:1]\n",
    "print(y)\n",
    "y = y.values.ravel()\n",
    "print(y)"
   ]
  },
  {
   "cell_type": "markdown",
   "metadata": {},
   "source": [
    "### Creating the detection model\n",
    "All of the data generation and preparation took a long time in this example, but it’s an even longer process in the real world. This example hasn’t considered issues like cleaning the data, dealing with missing data, or verifying that data is in the correct range and of the correct type. However, it's finally time to see the results of the data preparation."
   ]
  },
  {
   "cell_type": "markdown",
   "metadata": {},
   "source": [
    "#### Performing the classification"
   ]
  },
  {
   "cell_type": "code",
   "execution_count": 9,
   "metadata": {},
   "outputs": [
    {
     "data": {
      "text/plain": [
       "RandomForestClassifier()"
      ]
     },
     "execution_count": 9,
     "metadata": {},
     "output_type": "execute_result"
    }
   ],
   "source": [
    "clf=RandomForestClassifier()\n",
    "clf.fit(X,y)"
   ]
  },
  {
   "cell_type": "code",
   "execution_count": 10,
   "metadata": {},
   "outputs": [
    {
     "name": "stdout",
     "output_type": "stream",
     "text": [
      "There are 4975 benign entries and 25 hacker entries with a threshold of 1.4000000000000021.\n"
     ]
    }
   ],
   "source": [
    "random.seed(19)\n",
    "threshold, benignCount, hackerCount, data = \\\n",
    "    CreateAPITraffic(benignIP=benignIPs, \n",
    "                     apiEntries=callNames, \n",
    "                     bias=.95, outlier=15)\n",
    "print(f\"There are {benignCount} benign entries \" \\\n",
    "      f\"and {hackerCount} hacker entries \" \\\n",
    "      f\"with a threshold of {threshold}.\")\n",
    "fields = ['Time', 'IP_Address', 'API_Call']\n",
    "SaveDataToCSV(data, fields, \"TestData.csv\")"
   ]
  },
  {
   "cell_type": "code",
   "execution_count": 11,
   "metadata": {},
   "outputs": [
    {
     "name": "stdout",
     "output_type": "stream",
     "text": [
      "Accuracy: 1.000\n"
     ]
    }
   ],
   "source": [
    "testData, testCalls = ReadDataFromCSV(\"TestData.csv\")\n",
    "X_test = np.array(testData[1:len(calls)+1]).T\n",
    "y_test = testData[0:1].values.ravel()\n",
    "y_pred = clf.predict(X_test)\n",
    "print('Accuracy: %.3f' % accuracy_score(y_test, y_pred))"
   ]
  },
  {
   "cell_type": "markdown",
   "metadata": {},
   "source": [
    "## Using a subprocess in Python example\n",
    "A subprocess is one that is called from the current process to perform a specific task. You use subproceses for all sorts of things, like getting the contents of the current directory or opening a `.zip` file. The first cell below shows the unsafe way of doing things, while the second cell is safer. The third cell shows an easier to use and safer, but less flexible method."
   ]
  },
  {
   "cell_type": "code",
   "execution_count": 12,
   "metadata": {},
   "outputs": [
    {
     "name": "stdout",
     "output_type": "stream",
     "text": [
      " Volume in drive C is Data\r\n",
      " Volume Serial Number is 9CA2-C0E6\r\n",
      "\r\n",
      " Directory of C:\\Users\\John\\Anaconda Projects\\MLSec\\Chapter05\r\n",
      "\r\n",
      "08/21/2022  08:24 AM    <DIR>          .\r\n",
      "08/21/2022  08:24 AM    <DIR>          ..\r\n",
      "08/12/2022  10:55 AM    <DIR>          .ipynb_checkpoints\r\n",
      "08/21/2022  08:34 AM           314,158 CallData.csv\r\n",
      "06/08/2021  12:54 PM             8,703 MLSec; 05; Check for GPU Support.ipynb\r\n",
      "05/17/2021  08:40 PM         3,304,477 MLSec; 05; Pix2Pix.ipynb\r\n",
      "08/21/2022  08:24 AM            27,992 MLSec; 05; Real Time Defenses.ipynb\r\n",
      "08/21/2022  08:35 AM           157,278 TestData.csv\r\n",
      "               5 File(s)      3,812,608 bytes\r\n",
      "               3 Dir(s)  1,728,845,541,376 bytes free\r\n",
      "\n"
     ]
    }
   ],
   "source": [
    "from subprocess import check_output\n",
    "\n",
    "MyDir = check_output(\"dir\", shell=True)\n",
    "print(MyDir.decode('ascii'))"
   ]
  },
  {
   "cell_type": "code",
   "execution_count": 13,
   "metadata": {},
   "outputs": [
    {
     "name": "stdout",
     "output_type": "stream",
     "text": [
      " Volume in drive C is Data\r\n",
      " Volume Serial Number is 9CA2-C0E6\r\n",
      "\r\n",
      " Directory of C:\\Users\\John\\Anaconda Projects\\MLSec\\Chapter05\r\n",
      "\r\n",
      "08/21/2022  08:24 AM    <DIR>          .\r\n",
      "08/21/2022  08:24 AM    <DIR>          ..\r\n",
      "08/12/2022  10:55 AM    <DIR>          .ipynb_checkpoints\r\n",
      "08/21/2022  08:34 AM           314,158 CallData.csv\r\n",
      "06/08/2021  12:54 PM             8,703 MLSec; 05; Check for GPU Support.ipynb\r\n",
      "05/17/2021  08:40 PM         3,304,477 MLSec; 05; Pix2Pix.ipynb\r\n",
      "08/21/2022  08:24 AM            27,992 MLSec; 05; Real Time Defenses.ipynb\r\n",
      "08/21/2022  08:35 AM           157,278 TestData.csv\r\n",
      "               5 File(s)      3,812,608 bytes\r\n",
      "               3 Dir(s)  1,728,845,541,376 bytes free\r\n",
      "\n"
     ]
    }
   ],
   "source": [
    "from subprocess import check_output\n",
    "\n",
    "MyDir = check_output(['cmd','/c','dir'])\n",
    "print(MyDir.decode('ascii'))"
   ]
  },
  {
   "cell_type": "code",
   "execution_count": 14,
   "metadata": {},
   "outputs": [
    {
     "name": "stdout",
     "output_type": "stream",
     "text": [
      "['.ipynb_checkpoints', 'CallData.csv', 'MLSec; 05; Check for GPU Support.ipynb', 'MLSec; 05; Pix2Pix.ipynb', 'MLSec; 05; Real Time Defenses.ipynb', 'TestData.csv']\n"
     ]
    }
   ],
   "source": [
    "from os import listdir\n",
    "from os import getcwd\n",
    "\n",
    "MyDir = listdir(getcwd())\n",
    "print(MyDir)"
   ]
  },
  {
   "cell_type": "markdown",
   "metadata": {},
   "source": [
    "## 5.4.2\tWorking with Flask\n",
    "Flask is a Python framework used for web applications. You could make your machine learning application available through a web API using it. However, whenever you work with the web, you could expose your network to problems such as Cross-Site Scripting (XSS). The following examples show how to avoid this problem."
   ]
  },
  {
   "cell_type": "code",
   "execution_count": 15,
   "metadata": {},
   "outputs": [],
   "source": [
    "from flask import Flask, request\n",
    "\n",
    "app = Flask(__name__)\n",
    "\n",
    "@app.route(\"/\")\n",
    "def say_hello():\n",
    "    your_name = request.args.get('name')\n",
    "    return \"Hello %s\" % your_name"
   ]
  },
  {
   "cell_type": "markdown",
   "metadata": {},
   "source": [
    "**Click the stop button to stop the server from running.** Otherwise, the server will continue to run in the background and you won't be able to run the rest of the example. To test this server out with a script, type `http://127.0.0.1:5000/?name=<script>alert(1)</script>` in a new browser tab and press Enter."
   ]
  },
  {
   "cell_type": "code",
   "execution_count": 16,
   "metadata": {},
   "outputs": [
    {
     "name": "stdout",
     "output_type": "stream",
     "text": [
      " * Serving Flask app \"__main__\" (lazy loading)\n",
      " * Environment: production\n",
      "   WARNING: This is a development server. Do not use it in a production deployment.\n",
      "   Use a production WSGI server instead.\n",
      " * Debug mode: off\n"
     ]
    },
    {
     "name": "stderr",
     "output_type": "stream",
     "text": [
      " * Running on http://127.0.0.1:5000/ (Press CTRL+C to quit)\n",
      "127.0.0.1 - - [21/Aug/2022 08:36:13] \"\u001b[37mGET /?name=%3Cscript%3Ealert(1)%3C/script%3E HTTP/1.1\u001b[0m\" 200 -\n",
      "127.0.0.1 - - [21/Aug/2022 08:36:16] \"\u001b[33mGET /favicon.ico HTTP/1.1\u001b[0m\" 404 -\n",
      "127.0.0.1 - - [21/Aug/2022 08:36:24] \"\u001b[37mGET /?name=John HTTP/1.1\u001b[0m\" 200 -\n"
     ]
    }
   ],
   "source": [
    "app.run()"
   ]
  },
  {
   "cell_type": "code",
   "execution_count": 17,
   "metadata": {},
   "outputs": [],
   "source": [
    "from flask import Flask, request, escape\n",
    "\n",
    "app = Flask(__name__)\n",
    "\n",
    "@app.route(\"/\")\n",
    "def say_hello():\n",
    "    your_name = request.args.get('name')\n",
    "    return \"Hello %s\" % escape(your_name)"
   ]
  },
  {
   "cell_type": "code",
   "execution_count": 18,
   "metadata": {},
   "outputs": [
    {
     "name": "stdout",
     "output_type": "stream",
     "text": [
      " * Serving Flask app \"__main__\" (lazy loading)\n",
      " * Environment: production\n",
      "   WARNING: This is a development server. Do not use it in a production deployment.\n",
      "   Use a production WSGI server instead.\n",
      " * Debug mode: off\n"
     ]
    },
    {
     "name": "stderr",
     "output_type": "stream",
     "text": [
      " * Running on http://127.0.0.1:5000/ (Press CTRL+C to quit)\n"
     ]
    }
   ],
   "source": [
    "app.run()"
   ]
  },
  {
   "cell_type": "code",
   "execution_count": null,
   "metadata": {},
   "outputs": [],
   "source": []
  }
 ],
 "metadata": {
  "kernelspec": {
   "display_name": "Python 3",
   "language": "python",
   "name": "python3"
  },
  "language_info": {
   "codemirror_mode": {
    "name": "ipython",
    "version": 3
   },
   "file_extension": ".py",
   "mimetype": "text/x-python",
   "name": "python",
   "nbconvert_exporter": "python",
   "pygments_lexer": "ipython3",
   "version": "3.8.3"
  }
 },
 "nbformat": 4,
 "nbformat_minor": 4
}
