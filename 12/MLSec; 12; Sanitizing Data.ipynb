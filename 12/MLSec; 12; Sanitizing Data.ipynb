{
 "cells": [
  {
   "cell_type": "markdown",
   "id": "3869348e",
   "metadata": {},
   "source": [
    "# Sanitizing data correctly"
   ]
  },
  {
   "cell_type": "markdown",
   "id": "9b36867a",
   "metadata": {},
   "source": [
    "## Considering the current dataset"
   ]
  },
  {
   "cell_type": "code",
   "execution_count": 1,
   "id": "f64f04f9",
   "metadata": {},
   "outputs": [
    {
     "name": "stdout",
     "output_type": "stream",
     "text": [
      "       Date FirstName   LastName                          PrimaryAddress  Age  \\\n",
      "0  01/15/23    George      Smith        123 Anywhere, Anywhere, WI 59999   44   \n",
      "1  01/15/23     Sally      Jones      123 Somewhere, Somewhere, NV 89503   32   \n",
      "2  01/15/23     Renee     Walker          123 Nowhere, Nowhere, CA 90011   49   \n",
      "3  01/16/23   Saniago  Dominguez      123 Downthere, Downthere, MN 55144   50   \n",
      "4  01/16/23  Abdullah      Brown          123 Upthere, Upthere, FL 33052    0   \n",
      "5  01/16/23    Fenhua       Yang  123 Aroundthere, Aroundthere, NY 10008   89   \n",
      "\n",
      "   Income Gender ProductColor  Price  Gadget1  Gadget2  \n",
      "0   40000      M         Blue    199     True    False  \n",
      "1   80000      F          Red    169    False    False  \n",
      "2   60000      X       Purple    179     True     True  \n",
      "3  100000      N        Green    209     True     True  \n",
      "4   60000      M       Yellow    179    False     True  \n",
      "5   80000      N          Red    199     True     True  \n"
     ]
    }
   ],
   "source": [
    "import pandas as pd\n",
    "\n",
    "sanitize_df = pd.read_csv(\"PollData.csv\")\n",
    "print(sanitize_df)"
   ]
  },
  {
   "cell_type": "markdown",
   "id": "6c247596",
   "metadata": {},
   "source": [
    "## Removing personally identifiable information"
   ]
  },
  {
   "cell_type": "code",
   "execution_count": 2,
   "id": "6a688e86",
   "metadata": {},
   "outputs": [],
   "source": [
    "ids = range(0, len(sanitize_df))\n",
    "sanitize_df[\"Id\"] = ids"
   ]
  },
  {
   "cell_type": "code",
   "execution_count": 3,
   "id": "6821f0e9",
   "metadata": {},
   "outputs": [
    {
     "name": "stdout",
     "output_type": "stream",
     "text": [
      "   Id FirstName   LastName                          PrimaryAddress\n",
      "0   0    George      Smith        123 Anywhere, Anywhere, WI 59999\n",
      "1   1     Sally      Jones      123 Somewhere, Somewhere, NV 89503\n",
      "2   2     Renee     Walker          123 Nowhere, Nowhere, CA 90011\n",
      "3   3   Saniago  Dominguez      123 Downthere, Downthere, MN 55144\n",
      "4   4  Abdullah      Brown          123 Upthere, Upthere, FL 33052\n",
      "5   5    Fenhua       Yang  123 Aroundthere, Aroundthere, NY 10008\n"
     ]
    }
   ],
   "source": [
    "saved_df = sanitize_df[[\n",
    "    \"Id\", \"FirstName\", \n",
    "    \"LastName\", \"PrimaryAddress\"]]\n",
    "print(saved_df)\n",
    "\n",
    "saved_df.to_csv(\"SavedData.csv\")"
   ]
  },
  {
   "cell_type": "code",
   "execution_count": 4,
   "id": "185bfaec",
   "metadata": {},
   "outputs": [
    {
     "name": "stdout",
     "output_type": "stream",
     "text": [
      "       Date  Age  Income Gender ProductColor  Price  Gadget1  Gadget2  Id\n",
      "0  01/15/23   44   40000      M         Blue    199     True    False   0\n",
      "1  01/15/23   32   80000      F          Red    169    False    False   1\n",
      "2  01/15/23   49   60000      X       Purple    179     True     True   2\n",
      "3  01/16/23   50  100000      N        Green    209     True     True   3\n",
      "4  01/16/23    0   60000      M       Yellow    179    False     True   4\n",
      "5  01/16/23   89   80000      N          Red    199     True     True   5\n"
     ]
    }
   ],
   "source": [
    "sanitize_df.drop([\n",
    "    \"FirstName\", \"LastName\", \"PrimaryAddress\"], \n",
    "    axis='columns', inplace=True)\n",
    "print(sanitize_df)"
   ]
  },
  {
   "cell_type": "markdown",
   "id": "46adfd41",
   "metadata": {},
   "source": [
    "### Adding traits together to make them less identifiable"
   ]
  },
  {
   "cell_type": "code",
   "execution_count": 5,
   "id": "cdd932ab",
   "metadata": {},
   "outputs": [
    {
     "name": "stdout",
     "output_type": "stream",
     "text": [
      "       Date   Age  Income Gender ProductColor  Price  Gadget1  Gadget2  Id\n",
      "0  01/15/23  44.0   40000      M         Blue    199     True    False   0\n",
      "1  01/15/23  32.0   80000      F          Red    169    False    False   1\n",
      "2  01/15/23  49.0   60000      X       Purple    179     True     True   2\n",
      "3  01/16/23  50.0  100000      N        Green    209     True     True   3\n",
      "4  01/16/23  44.0   60000      M       Yellow    179    False     True   4\n",
      "5  01/16/23  89.0   80000      N          Red    199     True     True   5\n"
     ]
    }
   ],
   "source": [
    "averageAge = sanitize_df['Age'].mean()\n",
    "sanitize_df['Age'] = \\\n",
    "    [averageAge if x == 0 else x \n",
    "     for x in sanitize_df['Age']]\n",
    "print(sanitize_df)"
   ]
  },
  {
   "cell_type": "code",
   "execution_count": 6,
   "id": "f4951f45",
   "metadata": {},
   "outputs": [],
   "source": [
    "def AgeLevel(Age):\n",
    "    if Age >= 1 and Age <= 19:\n",
    "        return 1\n",
    "    elif Age >= 20 and Age <= 29:\n",
    "        return 8\n",
    "    elif Age >= 30 and Age <= 39:\n",
    "        return 15\n",
    "    elif Age >= 40 and Age <= 49:\n",
    "        return 22\n",
    "    elif Age >= 50 and Age <= 59:\n",
    "        return 29\n",
    "    elif Age >= 60 and Age <= 69:\n",
    "        return 36\n",
    "    elif Age >= 70:\n",
    "        return 43"
   ]
  },
  {
   "cell_type": "code",
   "execution_count": 7,
   "id": "6424b5bf",
   "metadata": {},
   "outputs": [],
   "source": [
    "def IncomeLevel(Income):\n",
    "    if Income == 0:\n",
    "        return 0\n",
    "    elif Income == 20000:\n",
    "        return 1\n",
    "    elif Income == 40000:\n",
    "        return 2\n",
    "    elif Income == 60000:\n",
    "        return 3\n",
    "    elif Income == 80000:\n",
    "        return 4\n",
    "    elif Income == 100000:\n",
    "        return 5\n",
    "    elif Income == 120000:\n",
    "        return 6"
   ]
  },
  {
   "cell_type": "code",
   "execution_count": 8,
   "id": "8d84d60e",
   "metadata": {},
   "outputs": [],
   "source": [
    "def GroupValue(Age = 1, Income = 0):\n",
    "    Group = AgeLevel(Age) + IncomeLevel(Income)\n",
    "    return Group"
   ]
  },
  {
   "cell_type": "code",
   "execution_count": 9,
   "id": "fa46a5f0",
   "metadata": {},
   "outputs": [
    {
     "name": "stdout",
     "output_type": "stream",
     "text": [
      "[24, 19, 25, 34, 25, 47]\n"
     ]
    }
   ],
   "source": [
    "GroupList = []\n",
    "for Age, Income in \\\n",
    "    zip(sanitize_df['Age'], sanitize_df['Income']):\n",
    "        \n",
    "        GroupList.append(GroupValue(Age, Income))\n",
    "print(GroupList)"
   ]
  },
  {
   "cell_type": "code",
   "execution_count": 10,
   "id": "b87cc322",
   "metadata": {},
   "outputs": [
    {
     "name": "stdout",
     "output_type": "stream",
     "text": [
      "       Date   Age  Income Gender ProductColor  Price  Gadget1  Gadget2  Id  \\\n",
      "0  01/15/23  44.0   40000      M         Blue    199     True    False   0   \n",
      "1  01/15/23  32.0   80000      F          Red    169    False    False   1   \n",
      "2  01/15/23  49.0   60000      X       Purple    179     True     True   2   \n",
      "3  01/16/23  50.0  100000      N        Green    209     True     True   3   \n",
      "4  01/16/23  44.0   60000      M       Yellow    179    False     True   4   \n",
      "5  01/16/23  89.0   80000      N          Red    199     True     True   5   \n",
      "\n",
      "   Group  \n",
      "0     24  \n",
      "1     19  \n",
      "2     25  \n",
      "3     34  \n",
      "4     25  \n",
      "5     47  \n"
     ]
    }
   ],
   "source": [
    "sanitize_df['Group'] = GroupList\n",
    "print(sanitize_df)"
   ]
  },
  {
   "cell_type": "code",
   "execution_count": 11,
   "id": "b438dd9b",
   "metadata": {},
   "outputs": [
    {
     "name": "stdout",
     "output_type": "stream",
     "text": [
      "       Date Gender ProductColor  Price  Gadget1  Gadget2  Id  Group\n",
      "0  01/15/23      M         Blue    199     True    False   0     24\n",
      "1  01/15/23      F          Red    169    False    False   1     19\n",
      "2  01/15/23      X       Purple    179     True     True   2     25\n",
      "3  01/16/23      N        Green    209     True     True   3     34\n",
      "4  01/16/23      M       Yellow    179    False     True   4     25\n",
      "5  01/16/23      N          Red    199     True     True   5     47\n"
     ]
    }
   ],
   "source": [
    "sanitize_df.drop([\n",
    "    \"Age\", \"Income\"], \n",
    "    axis='columns', inplace=True)\n",
    "print(sanitize_df)"
   ]
  },
  {
   "cell_type": "markdown",
   "id": "6db0de0f",
   "metadata": {},
   "source": [
    "## Eliminating unnecessary features"
   ]
  },
  {
   "cell_type": "code",
   "execution_count": 12,
   "id": "490cfc1c",
   "metadata": {},
   "outputs": [
    {
     "name": "stdout",
     "output_type": "stream",
     "text": [
      "       Date ProductColor  Price  Gadget1  Gadget2  Id  Group\n",
      "0  01/15/23         Blue    199     True    False   0     24\n",
      "1  01/15/23          Red    169    False    False   1     19\n",
      "2  01/15/23       Purple    179     True     True   2     25\n",
      "3  01/16/23        Green    209     True     True   3     34\n",
      "4  01/16/23       Yellow    179    False     True   4     25\n",
      "5  01/16/23          Red    199     True     True   5     47\n"
     ]
    }
   ],
   "source": [
    "sanitize_df.drop([\"Gender\"], \n",
    "    axis='columns', inplace=True)\n",
    "print(sanitize_df)"
   ]
  },
  {
   "cell_type": "code",
   "execution_count": null,
   "id": "1c7795d3",
   "metadata": {},
   "outputs": [],
   "source": []
  }
 ],
 "metadata": {
  "kernelspec": {
   "display_name": "Python 3 (ipykernel)",
   "language": "python",
   "name": "python3"
  },
  "language_info": {
   "codemirror_mode": {
    "name": "ipython",
    "version": 3
   },
   "file_extension": ".py",
   "mimetype": "text/x-python",
   "name": "python",
   "nbconvert_exporter": "python",
   "pygments_lexer": "ipython3",
   "version": "3.9.12"
  }
 },
 "nbformat": 4,
 "nbformat_minor": 5
}
