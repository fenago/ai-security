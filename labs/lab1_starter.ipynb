{
 "cells": [
  {
   "cell_type": "markdown",
   "id": "e879e3b7",
   "metadata": {},
   "source": [
    "# Training a Simple Traffic Sign Classifier \n",
    "\n",
    "__Objective__: Create a CNN (Convolutional Neural Network) model. Use this model to classify traffic signs.\n",
    "\n",
    "__Workflow__:\n",
    "1. Load the `Traffic Sign` dataset and examine its structure.\n",
    "    - Download `tsrd-train` from http://www.nlpr.ia.ac.cn/pal/trafficdata/recognition.html.\n",
    "    - Take a closer look at the data inspecting its size, shape, and quantity.\n",
    "    - View some random samples using either OpenCV or Matplotlib (or others) of the traffic sign images and observe the complexity of the images.\n",
    "2. Using `numpy` or other libraries, prepare your dataset for training.\n",
    "    - Ensure the format or shape of the data is appropriate for input into your model (one-hot-encoding is needed for the labels)\n",
    "    - Ensure data types are correct and that data is normalized. \n",
    "\n",
    "__Deliverable__:\n",
    "\n",
    "The deliverable is a Jupyter Notebook documenting your workflow as you take the `Traffic Sign` dataset, view samples, convert it into the proper shape/format as required by your deep learning library. You are required to train the model using the specifications provided. You should save numpy converted dataset. as you'll need it for further analysis in the second milestone."
   ]
  },
  {
   "cell_type": "code",
   "execution_count": null,
   "id": "e3b74b7c",
   "metadata": {},
   "outputs": [],
   "source": [
    "import matplotlib.pyplot as plt\n",
    "import pandas as pd\n",
    "from glob import glob\n",
    "from tqdm.notebook import tqdm\n",
    "import cv2\n",
    "from keras.preprocessing.image import  img_to_array\n",
    "import os\n",
    "import numpy as np\n",
    "from tensorflow.keras.utils import to_categorical\n",
    "import matplotlib.patches as patches\n",
    "from IPython.display import Image"
   ]
  },
  {
   "cell_type": "code",
   "execution_count": null,
   "id": "4261b6b0",
   "metadata": {},
   "outputs": [],
   "source": [
    "IMAGE_PATH_TRAIN = '/Users/ozgur/Downloads/tsrd-train/'\n",
    "COL_NAMES = ['filename','f1','f2','x1','y1','x2','y2','label']\n",
    "IMAGE_SIZE = (134,128)"
   ]
  },
  {
   "cell_type": "code",
   "execution_count": null,
   "id": "8bce2077",
   "metadata": {},
   "outputs": [],
   "source": [
    "df = pd.read_csv('TsignRecgTrain4170Annotation.txt',names=COL_NAMES,sep=';', index_col=False)\n",
    "\n",
    "files = glob(IMAGE_PATH_TRAIN + '*.png')\n",
    "data = []\n",
    "labels = []\n",
    "\n",
    "for fname in tqdm(range(len(files)),):\n",
    "    fname = files[fname]\n",
    "    '''\n",
    "    - Read the image using cv2's `imread` method\n",
    "    - Resize the image cv2's `resize` method\n",
    "    - Append the image to `data` array\n",
    "    - Get the corresponding label and add it to `labels` array\n",
    "    '''"
   ]
  },
  {
   "cell_type": "code",
   "execution_count": null,
   "id": "6dbd5db5",
   "metadata": {},
   "outputs": [],
   "source": [
    "'''\n",
    "- Plot 32 samples (4 rows, 8 colums) from the image dataset, with figure size 15,6\n",
    "'''\n",
    "NUM_OF_ROWS = 4\n",
    "NUM_OF_COLS = 8\n",
    "fig, ax = plt.subplots(...)\n",
    "\n",
    "for i in range(NUM_OF_ROWS):\n",
    "    for j in range(NUM_OF_COLS):\n",
    "        img_sample = df.sample(1)\n",
    "        '''\n",
    "        - Read a sample image from `df` dataset \n",
    "        - show it using matplotlib `imshow` method\n",
    "        - Note: When the image file is read with the OpenCV function imread(), \n",
    "        -       the order of colors is BGR (blue, green, red). You need to change it to RGB.\n",
    "        -       you can do this by applying: img = img[...,::-1]\n",
    "        '''\n",
    "        ax[i,j].imshow(...)\n",
    "        \n",
    "        '''\n",
    "        - Get x,y (starting point of the traffic sign and the width height information)\n",
    "        - Create a Rectangle object using `patches`\n",
    "        - add it to existing plot(e.g. sample traffic sign)\n",
    "        - Set subfigure's title with label information. e.g. 'Label:2'\n",
    "        - Hide (i.e. `off`) plot axis\n",
    "        '''\n",
    "plt.show()"
   ]
  },
  {
   "cell_type": "code",
   "execution_count": null,
   "id": "9e26e5d0",
   "metadata": {},
   "outputs": [],
   "source": [
    "'''\n",
    "Save data and label NumPy objects\n",
    "'''\n",
    "np.savez('traffic_sign.npz', ... )"
   ]
  },
  {
   "cell_type": "code",
   "execution_count": null,
   "id": "bb5e1910",
   "metadata": {},
   "outputs": [],
   "source": []
  }
 ],
 "metadata": {
  "kernelspec": {
   "display_name": "Python 3",
   "language": "python",
   "name": "python3"
  },
  "language_info": {
   "codemirror_mode": {
    "name": "ipython",
    "version": 3
   },
   "file_extension": ".py",
   "mimetype": "text/x-python",
   "name": "python",
   "nbconvert_exporter": "python",
   "pygments_lexer": "ipython3",
   "version": "3.8.13"
  }
 },
 "nbformat": 4,
 "nbformat_minor": 5
}
