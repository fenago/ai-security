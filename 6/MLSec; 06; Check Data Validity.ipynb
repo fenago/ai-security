{
 "cells": [
  {
   "cell_type": "markdown",
   "metadata": {},
   "source": [
    "# Detecting Data Anomalies"
   ]
  },
  {
   "cell_type": "markdown",
   "metadata": {},
   "source": [
    "## Checking  data validity"
   ]
  },
  {
   "cell_type": "markdown",
   "metadata": {},
   "source": [
    "### Relying on Interquartile Range (IQR)"
   ]
  },
  {
   "cell_type": "code",
   "execution_count": 1,
   "metadata": {},
   "outputs": [],
   "source": [
    "from sklearn.datasets import fetch_california_housing\n",
    "import pandas as pd\n",
    "\n",
    "%matplotlib inline "
   ]
  },
  {
   "cell_type": "code",
   "execution_count": 2,
   "metadata": {},
   "outputs": [
    {
     "name": "stdout",
     "output_type": "stream",
     "text": [
      "       MedInc  HouseAge  AveRooms  AveBedrms  Population  AveOccup  Latitude  \\\n",
      "0      8.3252      41.0  6.984127   1.023810       322.0  2.555556     37.88   \n",
      "1      8.3014      21.0  6.238137   0.971880      2401.0  2.109842     37.86   \n",
      "2      7.2574      52.0  8.288136   1.073446       496.0  2.802260     37.85   \n",
      "3      5.6431      52.0  5.817352   1.073059       558.0  2.547945     37.85   \n",
      "4      3.8462      52.0  6.281853   1.081081       565.0  2.181467     37.85   \n",
      "...       ...       ...       ...        ...         ...       ...       ...   \n",
      "20635  1.5603      25.0  5.045455   1.133333       845.0  2.560606     39.48   \n",
      "20636  2.5568      18.0  6.114035   1.315789       356.0  3.122807     39.49   \n",
      "20637  1.7000      17.0  5.205543   1.120092      1007.0  2.325635     39.43   \n",
      "20638  1.8672      18.0  5.329513   1.171920       741.0  2.123209     39.43   \n",
      "20639  2.3886      16.0  5.254717   1.162264      1387.0  2.616981     39.37   \n",
      "\n",
      "       Longitude  \n",
      "0        -122.23  \n",
      "1        -122.22  \n",
      "2        -122.24  \n",
      "3        -122.25  \n",
      "4        -122.25  \n",
      "...          ...  \n",
      "20635    -121.09  \n",
      "20636    -121.21  \n",
      "20637    -121.22  \n",
      "20638    -121.32  \n",
      "20639    -121.24  \n",
      "\n",
      "[20640 rows x 8 columns]\n"
     ]
    }
   ],
   "source": [
    "california = fetch_california_housing(as_frame = True)\n",
    "X, y = california.data, california.data\n",
    "X = pd.DataFrame(X, columns=california.feature_names)\n",
    "print(X)"
   ]
  },
  {
   "cell_type": "code",
   "execution_count": 3,
   "metadata": {},
   "outputs": [
    {
     "data": {
      "text/plain": [
       "<AxesSubplot:>"
      ]
     },
     "execution_count": 3,
     "metadata": {},
     "output_type": "execute_result"
    },
    {
     "data": {
      "image/png": "[encoded data removed]",
      "text/plain": [
       "<Figure size 432x288 with 1 Axes>"
      ]
     },
     "metadata": {
      "needs_background": "light"
     },
     "output_type": "display_data"
    }
   ],
   "source": [
    "X.boxplot('MedInc',return_type='axes')"
   ]
  },
  {
   "cell_type": "markdown",
   "metadata": {},
   "source": [
    "### Relying on Principle Component Analysis (PCA)"
   ]
  },
  {
   "cell_type": "code",
   "execution_count": 4,
   "metadata": {},
   "outputs": [],
   "source": [
    "from sklearn.decomposition import PCA\n",
    "from sklearn.preprocessing import scale\n",
    "import matplotlib.pyplot as plt"
   ]
  },
  {
   "cell_type": "code",
   "execution_count": 5,
   "metadata": {},
   "outputs": [
    {
     "name": "stdout",
     "output_type": "stream",
     "text": [
      "   MedInc  HouseAge\n",
      "0  8.3252      41.0\n",
      "1  8.3014      21.0\n",
      "2  7.2574      52.0\n",
      "3  5.6431      52.0\n",
      "4  3.8462      52.0\n",
      "[[ 2.34476576  0.98214266]\n",
      " [ 2.33223796 -0.60701891]\n",
      " [ 1.7826994   1.85618152]\n",
      " [ 0.93296751  1.85618152]\n",
      " [-0.012881    1.85618152]]\n"
     ]
    }
   ],
   "source": [
    "print(X[[\"MedInc\", \"HouseAge\"]][0:5])\n",
    "print(scale(X[[\"MedInc\", \"HouseAge\"]])[0:5])"
   ]
  },
  {
   "cell_type": "code",
   "execution_count": 6,
   "metadata": {},
   "outputs": [
    {
     "name": "stdout",
     "output_type": "stream",
     "text": [
      "[[ 1.88270434 -0.50336186]\n",
      " [ 1.37111955 -0.12140565]\n",
      " [ 2.08686762 -0.5011357 ]\n",
      " ...\n",
      " [ 1.40235696 -1.09642559]\n",
      " [ 1.5429429  -1.05940835]\n",
      " [ 1.40551621 -0.89672727]]\n",
      "Original Shape:  (20640, 8)\n",
      "Transformed Shape:  (20640, 2)\n"
     ]
    }
   ],
   "source": [
    "pca = PCA(n_components=2)\n",
    "pca.fit(scale(X))\n",
    "C = pca.transform(scale(X))\n",
    "print(C)\n",
    "print(\"Original Shape: \", X.shape)\n",
    "print(\"Transformed Shape: \", C.shape)"
   ]
  },
  {
   "cell_type": "code",
   "execution_count": 7,
   "metadata": {},
   "outputs": [
    {
     "data": {
      "image/png": "[encoded data removed]",
      "text/plain": [
       "<Figure size 432x288 with 1 Axes>"
      ]
     },
     "metadata": {
      "needs_background": "light"
     },
     "output_type": "display_data"
    }
   ],
   "source": [
    "plt.title('PCA Outlier Detection')\n",
    "plt.xlabel('Component 1')\n",
    "plt.ylabel('Component 2')\n",
    "plt.scatter(C[:,0],C[:,1], s=2**7, edgecolors='white',\n",
    "            alpha=0.85, cmap='autumn')\n",
    "plt.grid(which='minor', axis='both')\n",
    "plt.show()"
   ]
  },
  {
   "cell_type": "markdown",
   "metadata": {},
   "source": [
    "### Relying on Cook’s Distance"
   ]
  },
  {
   "cell_type": "code",
   "execution_count": 8,
   "metadata": {},
   "outputs": [
    {
     "name": "stdout",
     "output_type": "stream",
     "text": [
      "Yellowbrick installed:  yellowbrick                        1.5\n"
     ]
    }
   ],
   "source": [
    "modules = !pip list\n",
    "installed = False\n",
    "\n",
    "for item in modules:\n",
    "    if ('yellowbrick' in item):\n",
    "        print('Yellowbrick installed: ', item)\n",
    "        installed = True\n",
    "        \n",
    "if not installed:\n",
    "    print('Installing Yellowbrick...')\n",
    "    !pip install yellowbrick"
   ]
  },
  {
   "cell_type": "code",
   "execution_count": 9,
   "metadata": {},
   "outputs": [],
   "source": [
    "from yellowbrick.regressor import CooksDistance"
   ]
  },
  {
   "cell_type": "code",
   "execution_count": 10,
   "metadata": {},
   "outputs": [],
   "source": [
    "california = fetch_california_housing(as_frame = True)\n",
    "X = california.data[\"MedInc\"].values.reshape(-1, 1)\n",
    "y = range(len(X))"
   ]
  },
  {
   "cell_type": "code",
   "execution_count": 11,
   "metadata": {},
   "outputs": [
    {
     "name": "stdout",
     "output_type": "stream",
     "text": [
      "[[8.3252]\n",
      " [8.3014]\n",
      " [7.2574]\n",
      " ...\n",
      " [1.7   ]\n",
      " [1.8672]\n",
      " [2.3886]]\n"
     ]
    }
   ],
   "source": [
    "print(X)"
   ]
  },
  {
   "cell_type": "code",
   "execution_count": 12,
   "metadata": {},
   "outputs": [
    {
     "data": {
      "image/png": "[encoded data removed]",
      "text/plain": [
       "<Figure size 576x396 with 1 Axes>"
      ]
     },
     "metadata": {},
     "output_type": "display_data"
    },
    {
     "data": {
      "text/plain": [
       "<AxesSubplot:title={'center':\"Cook's Distance Outlier Detection\"}, xlabel='instance index', ylabel='influence (I)'>"
      ]
     },
     "execution_count": 12,
     "metadata": {},
     "output_type": "execute_result"
    }
   ],
   "source": [
    "visualizer = CooksDistance()\n",
    "visualizer.fit(X, y)\n",
    "visualizer.show()"
   ]
  },
  {
   "cell_type": "markdown",
   "metadata": {},
   "source": [
    "### Relying on Z-Score"
   ]
  },
  {
   "cell_type": "code",
   "execution_count": 13,
   "metadata": {},
   "outputs": [],
   "source": [
    "import numpy as np\n",
    "import seaborn as sns"
   ]
  },
  {
   "cell_type": "code",
   "execution_count": 14,
   "metadata": {},
   "outputs": [],
   "source": [
    "X = california.data[\"MedInc\"]"
   ]
  },
  {
   "cell_type": "code",
   "execution_count": 15,
   "metadata": {},
   "outputs": [
    {
     "name": "stdout",
     "output_type": "stream",
     "text": [
      "Mean of the dataset is:  3.8706710029070246\n",
      "Standard deviation is:  1.899775694574878\n"
     ]
    }
   ],
   "source": [
    "mean = np.mean(X)\n",
    "std = np.std(X)\n",
    "print('Mean of the dataset is: ', mean)\n",
    "print('Standard deviation is: ', std)"
   ]
  },
  {
   "cell_type": "code",
   "execution_count": 16,
   "metadata": {},
   "outputs": [
    {
     "name": "stdout",
     "output_type": "stream",
     "text": [
      "Record:  132  value:  11.6017\n",
      "Record:  410  value:  10.0825\n",
      "Record:  511  value:  11.8603\n",
      "Record:  512  value:  13.499\n",
      "Record:  513  value:  12.2138\n",
      "Record:  515  value:  12.3804\n",
      "Record:  924  value:  9.7194\n",
      "Record:  978  value:  10.9506\n",
      "Record:  987  value:  10.3203\n",
      "Record:  1542  value:  9.5862\n",
      "Record:  1562  value:  9.7037\n",
      "Record:  1564  value:  10.3345\n",
      "Record:  1565  value:  12.5915\n",
      "Record:  1567  value:  15.0001\n",
      "Record:  1575  value:  9.8708\n",
      "Record:  1583  value:  10.7372\n",
      "Record:  1584  value:  13.4883\n",
      "Record:  1587  value:  12.2478\n",
      "Record:  1592  value:  10.4549\n",
      "Record:  1594  value:  10.3224\n",
      "Record:  1603  value:  10.3713\n",
      "Record:  1618  value:  11.7064\n",
      "Record:  1622  value:  11.3421\n",
      "Record:  1637  value:  10.9405\n",
      "Record:  1638  value:  10.3416\n",
      "Record:  1645  value:  10.5815\n",
      "Record:  1646  value:  13.2949\n",
      "Record:  1647  value:  13.1499\n",
      "Record:  2214  value:  10.5144\n",
      "Record:  2827  value:  10.0263\n",
      "Record:  2970  value:  10.5941\n",
      "Record:  3487  value:  10.8805\n",
      "Record:  3534  value:  10.9052\n",
      "Record:  3543  value:  9.6047\n",
      "Record:  3859  value:  11.2093\n",
      "Record:  3954  value:  9.6465\n",
      "Record:  4015  value:  10.9201\n",
      "Record:  4019  value:  10.5511\n",
      "Record:  4043  value:  13.4196\n",
      "Record:  4045  value:  10.3587\n",
      "Record:  4046  value:  10.6796\n",
      "Record:  4047  value:  11.2979\n",
      "Record:  4048  value:  12.8879\n",
      "Record:  4050  value:  10.2292\n",
      "Record:  4051  value:  10.4399\n",
      "Record:  4057  value:  10.0549\n",
      "Record:  4071  value:  10.3599\n",
      "Record:  4075  value:  10.9237\n",
      "Record:  4112  value:  10.5575\n",
      "Record:  4117  value:  12.7823\n",
      "Record:  4221  value:  12.8763\n",
      "Record:  4230  value:  12.9591\n",
      "Record:  4320  value:  10.3661\n",
      "Record:  4346  value:  11.615\n",
      "Record:  4353  value:  15.0001\n",
      "Record:  4493  value:  10.2264\n",
      "Record:  4605  value:  15.0001\n",
      "Record:  4606  value:  15.0001\n",
      "Record:  4607  value:  15.0001\n",
      "Record:  4623  value:  11.2185\n",
      "Record:  4627  value:  15.0001\n",
      "Record:  4678  value:  10.586\n",
      "Record:  4679  value:  15.0001\n",
      "Record:  5243  value:  15.0001\n",
      "Record:  5244  value:  12.3767\n",
      "Record:  5245  value:  12.7296\n",
      "Record:  5247  value:  9.7449\n",
      "Record:  5248  value:  15.0001\n",
      "Record:  5249  value:  15.0001\n",
      "Record:  5251  value:  11.8442\n",
      "Record:  5253  value:  11.1978\n",
      "Record:  5254  value:  13.2935\n",
      "Record:  5255  value:  10.7937\n",
      "Record:  5257  value:  12.8665\n",
      "Record:  5258  value:  15.0001\n",
      "Record:  5259  value:  13.5728\n",
      "Record:  5260  value:  13.947\n",
      "Record:  5261  value:  15.0\n",
      "Record:  5265  value:  11.2866\n",
      "Record:  5270  value:  11.4233\n",
      "Record:  5272  value:  10.8082\n",
      "Record:  5273  value:  13.6842\n",
      "Record:  5276  value:  15.0001\n",
      "Record:  5278  value:  10.1882\n",
      "Record:  5282  value:  15.0001\n",
      "Record:  5292  value:  15.0001\n",
      "Record:  5293  value:  10.3467\n",
      "Record:  5305  value:  14.2867\n",
      "Record:  5319  value:  10.8045\n",
      "Record:  5353  value:  12.8483\n",
      "Record:  5361  value:  10.9805\n",
      "Record:  5362  value:  11.1768\n",
      "Record:  5369  value:  10.4519\n",
      "Record:  5494  value:  10.0\n",
      "Record:  5495  value:  12.0088\n",
      "Record:  5729  value:  12.1579\n",
      "Record:  5739  value:  9.5823\n",
      "Record:  6074  value:  11.1077\n",
      "Record:  6205  value:  10.1248\n",
      "Record:  6227  value:  9.7066\n",
      "Record:  6390  value:  9.8098\n",
      "Record:  6392  value:  15.0001\n",
      "Record:  6400  value:  15.0001\n",
      "Record:  6552  value:  10.2289\n",
      "Record:  6577  value:  9.8413\n",
      "Record:  6591  value:  15.0001\n",
      "Record:  6592  value:  15.0001\n",
      "Record:  6593  value:  15.0001\n",
      "Record:  6713  value:  11.7894\n",
      "Record:  6721  value:  10.7397\n",
      "Record:  6725  value:  11.706\n",
      "Record:  6726  value:  10.6767\n",
      "Record:  6727  value:  11.5609\n",
      "Record:  6728  value:  15.0001\n",
      "Record:  6729  value:  10.2317\n",
      "Record:  6732  value:  12.4237\n",
      "Record:  6733  value:  9.7912\n",
      "Record:  6736  value:  11.6471\n",
      "Record:  6737  value:  15.0001\n",
      "Record:  6916  value:  10.4835\n",
      "Record:  6920  value:  10.8034\n",
      "Record:  8312  value:  10.2233\n",
      "Record:  8769  value:  10.5045\n",
      "Record:  8791  value:  10.1241\n",
      "Record:  8793  value:  11.9993\n",
      "Record:  8794  value:  10.898\n",
      "Record:  8795  value:  12.9758\n",
      "Record:  8796  value:  11.6648\n",
      "Record:  8797  value:  10.06\n",
      "Record:  8798  value:  10.5536\n",
      "Record:  8800  value:  10.1447\n",
      "Record:  8801  value:  9.821\n",
      "Record:  8806  value:  15.0001\n",
      "Record:  8807  value:  10.0973\n",
      "Record:  8810  value:  9.8091\n",
      "Record:  8815  value:  9.8214\n",
      "Record:  8817  value:  11.6677\n",
      "Record:  8818  value:  10.1357\n",
      "Record:  8847  value:  15.0001\n",
      "Record:  8848  value:  15.0001\n",
      "Record:  8849  value:  15.0001\n",
      "Record:  8850  value:  15.0001\n",
      "Record:  8851  value:  15.0001\n",
      "Record:  8852  value:  15.0001\n",
      "Record:  8853  value:  15.0001\n",
      "Record:  8854  value:  15.0001\n",
      "Record:  8855  value:  15.0001\n",
      "Record:  8876  value:  13.8556\n",
      "Record:  8877  value:  13.3036\n",
      "Record:  8879  value:  15.0001\n",
      "Record:  8883  value:  11.7045\n",
      "Record:  9011  value:  9.7646\n",
      "Record:  9012  value:  10.076\n",
      "Record:  9137  value:  10.0285\n",
      "Record:  9317  value:  12.0933\n",
      "Record:  9355  value:  10.6272\n",
      "Record:  9357  value:  10.129\n",
      "Record:  9371  value:  14.5833\n",
      "Record:  9382  value:  11.5706\n",
      "Record:  9383  value:  10.0791\n",
      "Record:  9419  value:  12.2547\n",
      "Record:  9795  value:  10.1854\n",
      "Record:  9812  value:  14.4113\n",
      "Record:  10156  value:  13.1107\n",
      "Record:  10167  value:  9.9071\n",
      "Record:  10170  value:  9.7956\n",
      "Record:  10318  value:  10.1299\n",
      "Record:  10319  value:  10.5981\n",
      "Record:  10325  value:  9.8074\n",
      "Record:  10333  value:  10.1316\n",
      "Record:  10377  value:  10.1531\n",
      "Record:  10390  value:  9.6986\n",
      "Record:  10402  value:  10.0765\n",
      "Record:  10403  value:  11.0567\n",
      "Record:  10406  value:  10.9704\n",
      "Record:  10418  value:  10.49\n",
      "Record:  10459  value:  13.0502\n",
      "Record:  10465  value:  10.3983\n",
      "Record:  10473  value:  9.8321\n",
      "Record:  10484  value:  14.9009\n",
      "Record:  10485  value:  10.3953\n",
      "Record:  10518  value:  13.1477\n",
      "Record:  10520  value:  10.1122\n",
      "Record:  10528  value:  10.4415\n",
      "Record:  10563  value:  10.4498\n",
      "Record:  10645  value:  10.9601\n",
      "Record:  10662  value:  10.0757\n",
      "Record:  10668  value:  10.1275\n",
      "Record:  10671  value:  10.1989\n",
      "Record:  10672  value:  10.3893\n",
      "Record:  10674  value:  15.0001\n",
      "Record:  10683  value:  10.6349\n",
      "Record:  10725  value:  11.1121\n",
      "Record:  10726  value:  9.8589\n",
      "Record:  10727  value:  11.0138\n",
      "Record:  10728  value:  12.3411\n",
      "Record:  10743  value:  11.075\n",
      "Record:  10744  value:  10.3682\n",
      "Record:  10745  value:  10.3048\n",
      "Record:  10746  value:  11.216\n",
      "Record:  10750  value:  13.1738\n",
      "Record:  10758  value:  10.2849\n",
      "Record:  10760  value:  10.8289\n",
      "Record:  10761  value:  15.0001\n",
      "Record:  10762  value:  9.802\n",
      "Record:  10764  value:  10.1454\n",
      "Record:  10840  value:  9.6062\n",
      "Record:  11000  value:  11.0546\n",
      "Record:  11001  value:  13.466\n",
      "Record:  11008  value:  11.4537\n",
      "Record:  11009  value:  10.1714\n",
      "Record:  11011  value:  11.0124\n",
      "Record:  11021  value:  10.157\n",
      "Record:  11038  value:  12.2092\n",
      "Record:  11039  value:  11.1228\n",
      "Record:  11042  value:  10.8111\n",
      "Record:  11043  value:  9.9055\n",
      "Record:  11470  value:  10.1154\n",
      "Record:  11491  value:  11.5199\n",
      "Record:  11519  value:  9.8177\n",
      "Record:  11520  value:  9.8346\n",
      "Record:  11521  value:  15.0001\n",
      "Record:  11522  value:  10.5424\n",
      "Record:  11705  value:  10.2252\n",
      "Record:  11829  value:  10.9891\n",
      "Record:  11913  value:  12.5381\n",
      "Record:  12431  value:  10.2948\n",
      "Record:  12949  value:  10.2264\n",
      "Record:  13743  value:  10.8634\n",
      "Record:  14460  value:  11.3074\n",
      "Record:  14468  value:  10.7751\n",
      "Record:  14470  value:  10.9529\n",
      "Record:  14483  value:  10.7721\n",
      "Record:  14487  value:  12.4429\n",
      "Record:  14492  value:  10.0707\n",
      "Record:  14687  value:  10.3354\n",
      "Record:  14719  value:  9.6023\n",
      "Record:  15153  value:  10.6186\n",
      "Record:  15231  value:  11.0911\n",
      "Record:  15232  value:  13.6623\n",
      "Record:  15233  value:  10.156\n",
      "Record:  15234  value:  11.1118\n",
      "Record:  15236  value:  10.1768\n",
      "Record:  15242  value:  15.0001\n",
      "Record:  15692  value:  10.8783\n",
      "Record:  15694  value:  15.0001\n",
      "Record:  15695  value:  10.0914\n",
      "Record:  15698  value:  10.7097\n",
      "Record:  15699  value:  14.2959\n",
      "Record:  15997  value:  10.7569\n",
      "Record:  16012  value:  10.959\n",
      "Record:  16020  value:  10.7309\n",
      "Record:  16021  value:  10.6605\n",
      "Record:  16138  value:  10.7058\n",
      "Record:  16172  value:  15.0001\n",
      "Record:  16176  value:  10.2264\n",
      "Record:  16305  value:  10.0088\n",
      "Record:  16829  value:  12.5\n",
      "Record:  16909  value:  12.4291\n",
      "Record:  16910  value:  10.7339\n",
      "Record:  16911  value:  15.0001\n",
      "Record:  16912  value:  11.6833\n",
      "Record:  16913  value:  12.6417\n",
      "Record:  16914  value:  13.3913\n",
      "Record:  16915  value:  10.1675\n",
      "Record:  16916  value:  14.4219\n",
      "Record:  16919  value:  10.4286\n",
      "Record:  16939  value:  10.0743\n",
      "Record:  17107  value:  9.8892\n",
      "Record:  17108  value:  15.0001\n",
      "Record:  17109  value:  15.0001\n",
      "Record:  17110  value:  10.8758\n",
      "Record:  17111  value:  15.0001\n",
      "Record:  17112  value:  15.0001\n",
      "Record:  17113  value:  9.9025\n",
      "Record:  17114  value:  13.367\n",
      "Record:  17119  value:  15.0001\n",
      "Record:  17158  value:  9.7796\n",
      "Record:  17159  value:  11.9666\n",
      "Record:  17161  value:  10.0481\n",
      "Record:  17162  value:  11.3176\n",
      "Record:  17163  value:  13.2986\n",
      "Record:  17167  value:  15.0001\n",
      "Record:  17168  value:  10.2811\n",
      "Record:  17171  value:  15.0001\n",
      "Record:  17172  value:  10.6514\n",
      "Record:  17174  value:  10.6868\n",
      "Record:  17311  value:  11.7794\n",
      "Record:  17494  value:  9.7821\n",
      "Record:  17495  value:  9.6885\n",
      "Record:  17799  value:  12.3292\n",
      "Record:  17855  value:  10.3798\n",
      "Record:  17856  value:  10.9722\n",
      "Record:  17859  value:  15.0001\n",
      "Record:  18044  value:  10.0187\n",
      "Record:  18053  value:  15.0\n",
      "Record:  18054  value:  10.7582\n",
      "Record:  18056  value:  11.2463\n",
      "Record:  18060  value:  10.2666\n",
      "Record:  18062  value:  10.2311\n",
      "Record:  18066  value:  11.1557\n",
      "Record:  18067  value:  10.6834\n",
      "Record:  18068  value:  10.3653\n",
      "Record:  18070  value:  10.3979\n",
      "Record:  18077  value:  9.8937\n",
      "Record:  18079  value:  10.675\n",
      "Record:  18080  value:  10.5793\n",
      "Record:  18081  value:  12.2145\n",
      "Record:  18082  value:  10.7958\n",
      "Record:  18088  value:  10.7326\n",
      "Record:  18270  value:  10.0346\n",
      "Record:  18278  value:  9.8144\n",
      "Record:  18281  value:  10.1007\n",
      "Record:  18282  value:  10.5142\n",
      "Record:  18283  value:  12.367\n",
      "Record:  18284  value:  10.3591\n",
      "Record:  18288  value:  10.3329\n",
      "Record:  18299  value:  10.3894\n",
      "Record:  18326  value:  10.3942\n",
      "Record:  18328  value:  10.9508\n",
      "Record:  18342  value:  12.5902\n",
      "Record:  18348  value:  11.0492\n",
      "Record:  18349  value:  10.476\n",
      "Record:  18352  value:  10.7237\n",
      "Record:  18353  value:  12.0372\n",
      "Record:  18354  value:  10.7355\n",
      "Record:  18355  value:  13.1867\n",
      "Record:  18356  value:  11.806\n",
      "Record:  18357  value:  10.4277\n",
      "Record:  18361  value:  10.0259\n",
      "Record:  18362  value:  12.1387\n",
      "Record:  18363  value:  12.9792\n",
      "Record:  18364  value:  13.8093\n",
      "Record:  18367  value:  11.3283\n",
      "Record:  18502  value:  15.0001\n",
      "Record:  18505  value:  15.0001\n",
      "Record:  18506  value:  9.5908\n",
      "Record:  18620  value:  10.0968\n",
      "Record:  19007  value:  10.2264\n",
      "Record:  20164  value:  12.632\n",
      "Record:  20377  value:  10.2614\n",
      "Record:  20381  value:  10.1597\n",
      "Record:  20390  value:  10.0595\n"
     ]
    },
    {
     "name": "stdout",
     "output_type": "stream",
     "text": [
      "Record:  20427  value:  10.0472\n",
      "Record:  20437  value:  12.542\n"
     ]
    }
   ],
   "source": [
    "threshold = 3\n",
    "record = 1\n",
    "z_scores = []\n",
    "for i in X:\n",
    "    z = (i - mean) / std\n",
    "    z_scores.append(z)\n",
    "    if z > threshold:\n",
    "        print('Record: ', record, ' value: ', i)\n",
    "    record = record + 1"
   ]
  },
  {
   "cell_type": "code",
   "execution_count": 18,
   "metadata": {},
   "outputs": [
    {
     "data": {
      "text/plain": [
       "<seaborn.axisgrid.FacetGrid at 0x1da4acde490>"
      ]
     },
     "execution_count": 18,
     "metadata": {},
     "output_type": "execute_result"
    },
    {
     "data": {
      "image/png": "[encoded data removed]",
      "text/plain": [
       "<Figure size 360x360 with 1 Axes>"
      ]
     },
     "metadata": {},
     "output_type": "display_data"
    }
   ],
   "source": [
    "axes = sns.displot(z_scores, kde=True)\n",
    "axes.fig.suptitle('Z-Scores for MedInc')\n",
    "axes.set(xlabel='Standard Deviation')"
   ]
  },
  {
   "cell_type": "code",
   "execution_count": null,
   "metadata": {},
   "outputs": [],
   "source": []
  }
 ],
 "metadata": {
  "kernelspec": {
   "display_name": "Python 3 (ipykernel)",
   "language": "python",
   "name": "python3"
  },
  "language_info": {
   "codemirror_mode": {
    "name": "ipython",
    "version": 3
   },
   "file_extension": ".py",
   "mimetype": "text/x-python",
   "name": "python",
   "nbconvert_exporter": "python",
   "pygments_lexer": "ipython3",
   "version": "3.8.13"
  }
 },
 "nbformat": 4,
 "nbformat_minor": 4
}
